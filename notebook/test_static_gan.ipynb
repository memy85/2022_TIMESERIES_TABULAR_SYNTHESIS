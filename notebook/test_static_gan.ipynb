{
 "cells": [
  {
   "cell_type": "markdown",
   "metadata": {},
   "source": [
    "## Check static Gan"
   ]
  },
  {
   "cell_type": "code",
   "execution_count": 5,
   "metadata": {},
   "outputs": [
    {
     "ename": "SyntaxError",
     "evalue": "invalid syntax (model.py, line 102)",
     "output_type": "error",
     "traceback": [
      "Traceback \u001b[0;36m(most recent call last)\u001b[0m:\n",
      "\u001b[0m  File \u001b[1;32m~/.pyenv/versions/3.8.5/envs/darts/lib/python3.8/site-packages/IPython/core/interactiveshell.py:3433\u001b[0m in \u001b[1;35mrun_code\u001b[0m\n    exec(code_obj, self.user_global_ns, self.user_ns)\u001b[0m\n",
      "\u001b[0;36m  Cell \u001b[0;32mIn[5], line 7\u001b[0;36m\n\u001b[0;31m    from src.Module.model import StaticGenerator, StaticDiscriminator\u001b[0;36m\n",
      "\u001b[0;36m  File \u001b[0;32m~/2022_TIMESERIES_TABULAR_SYNTHESIS/src/Module/model.py:102\u001b[0;36m\u001b[0m\n\u001b[0;31m    def forward(self, x)\u001b[0m\n\u001b[0m                        ^\u001b[0m\n\u001b[0;31mSyntaxError\u001b[0m\u001b[0;31m:\u001b[0m invalid syntax\n"
     ]
    }
   ],
   "source": [
    "from pathlib import Path\n",
    "import os, sys\n",
    "\n",
    "path = Path().cwd().parents[0].as_posix()\n",
    "os.sys.path.append(path)\n",
    "\n",
    "from src.Module.model import StaticGenerator, StaticDiscriminator"
   ]
  },
  {
   "cell_type": "code",
   "execution_count": null,
   "metadata": {},
   "outputs": [],
   "source": []
  }
 ],
 "metadata": {
  "kernelspec": {
   "display_name": "Python 3.8.5 64-bit ('darts')",
   "language": "python",
   "name": "python3"
  },
  "language_info": {
   "codemirror_mode": {
    "name": "ipython",
    "version": 3
   },
   "file_extension": ".py",
   "mimetype": "text/x-python",
   "name": "python",
   "nbconvert_exporter": "python",
   "pygments_lexer": "ipython3",
   "version": "3.8.5"
  },
  "orig_nbformat": 4,
  "vscode": {
   "interpreter": {
    "hash": "77ad55f4c0f6b5947bd8b084224698948304a13ba036bfa60f5cbdfbcba2e566"
   }
  }
 },
 "nbformat": 4,
 "nbformat_minor": 2
}
